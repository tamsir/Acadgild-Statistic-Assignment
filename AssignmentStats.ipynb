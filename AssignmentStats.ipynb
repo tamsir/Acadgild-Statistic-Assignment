{
 "cells": [
  {
   "cell_type": "markdown",
   "metadata": {},
   "source": [
    "# STATISTICS 1, 2, 3 & 4"
   ]
  },
  {
   "cell_type": "markdown",
   "metadata": {},
   "source": [
    "## 2.1. Problem Statement: STATISTICS 1"
   ]
  },
  {
   "cell_type": "markdown",
   "metadata": {},
   "source": [
    "### 1. You survey households in your area to find the average rent they are paying. Find the standard deviation from the following data: $1550, $1700, $900, $850, $1000, $950."
   ]
  },
  {
   "cell_type": "code",
   "execution_count": 54,
   "metadata": {},
   "outputs": [
    {
     "name": "stdout",
     "output_type": "stream",
     "text": [
      "standard deviation :  335.92740617910624\n"
     ]
    }
   ],
   "source": [
    "import numpy as np\n",
    "import matplotlib.pyplot as plt\n",
    "import scipy.stats\n",
    "\n",
    "# First step, I create an numpy array with the rent value\n",
    "rent_value = np.array([1550, 1700, 900, 850, 1000, 950])\n",
    "\n",
    "# Second step, I use the numpy function np.std() to calculate the standard deviation\n",
    "print('standard deviation : ', np.std(rent_value))\n",
    "\n",
    "# The standard deviation makes it possible to evaluate the dispersion of rentals around the average value\n"
   ]
  },
  {
   "cell_type": "markdown",
   "metadata": {},
   "source": [
    "### 2. Find the variance for the following set of data representing trees in California (heights in feet): 3, 21, 98, 203, 17, 9"
   ]
  },
  {
   "cell_type": "code",
   "execution_count": 55,
   "metadata": {},
   "outputs": [
    {
     "name": "stdout",
     "output_type": "stream",
     "text": [
      "variance :  5183.25\n"
     ]
    }
   ],
   "source": [
    "# First step, I create an numpy array with the heights value\n",
    "heights_value = np.array([3, 21, 98, 203, 17, 9])\n",
    "\n",
    "# Second step, I use the numpy function np.var() to calculate the variance\n",
    "print('variance : ', np.var(heights_value))"
   ]
  },
  {
   "cell_type": "markdown",
   "metadata": {},
   "source": [
    "### 3. In a class on 100 students, 80 students passed in all subjects, 10 failed in one subject, 7 failed in two subjects and 3 failed in three subjects. Find the probability distribution of the variable for number of subjects a student from the given class has failed in."
   ]
  },
  {
   "cell_type": "code",
   "execution_count": 59,
   "metadata": {},
   "outputs": [
    {
     "name": "stdout",
     "output_type": "stream",
     "text": [
      "Probability of failing 0 subject :  0.8\n",
      "Probability of failing 1 subject :  0.1\n",
      "Probability of failing 2 subjects :  0.07\n",
      "Probability of failing 3 subjects :  0.03\n"
     ]
    }
   ],
   "source": [
    "total_student = 100\n",
    "fail_0 = 80\n",
    "fail_1 = 10\n",
    "fail_2 = 7\n",
    "fail_3 = 3\n",
    "\n",
    "# First step, I create a function to calculate the failed probability\n",
    "def prob_failed(failed,total):\n",
    "    return (failed/total)\n",
    "\n",
    "# Probability of failing 0 subject\n",
    "subject_0 = prob_failed(fail_0,total_student)\n",
    "print('Probability of failing 0 subject : ', subject_0)\n",
    "\n",
    "# Probability of failing 1 subject\n",
    "subject_1 = prob_failed(fail_1,total_student)\n",
    "print('Probability of failing 1 subject : ', subject_1)\n",
    "\n",
    "# Probability of failing 2 subjects\n",
    "subject_2 = prob_failed(fail_2,total_student)\n",
    "print('Probability of failing 2 subjects : ', subject_2)\n",
    "\n",
    "# Probability of failing 3 subjects\n",
    "subject_3 = prob_failed(fail_3,total_student)\n",
    "print('Probability of failing 3 subjects : ', subject_3)"
   ]
  },
  {
   "cell_type": "markdown",
   "metadata": {},
   "source": [
    "## 2.2. Problem Statement: STATISTICS 2"
   ]
  },
  {
   "cell_type": "markdown",
   "metadata": {},
   "source": [
    "### 1. A test is conducted which is consisting of 20 MCQs (multiple choices questions) with every MCQ having its four options out of which only one is correct.\n",
    "Determine the probability that a person undertaking that test has answered exactly 5 questions wrong."
   ]
  },
  {
   "cell_type": "code",
   "execution_count": 61,
   "metadata": {},
   "outputs": [
    {
     "name": "stdout",
     "output_type": "stream",
     "text": [
      "Probability of answering exactly 5 questions wrong :  3.4264958230778435e-06\n"
     ]
    }
   ],
   "source": [
    "# Here we have a binomial distribution with discrete value. So, we're going to use pmf\n",
    "n = 20\n",
    "prob = 3/4\n",
    "X = 5\n",
    "# We're going to fine P(X=5)\n",
    "five_wrong_question = scipy.stats.binom.pmf(X, n, 0.75)\n",
    "print('Probability of answering exactly 5 questions wrong : ', five_wrong_question)\n"
   ]
  },
  {
   "cell_type": "markdown",
   "metadata": {},
   "source": [
    "### 2. A die marked A to E is rolled 50 times. Find the probability of getting a \"D\" exactly 5 times."
   ]
  },
  {
   "cell_type": "code",
   "execution_count": 64,
   "metadata": {},
   "outputs": [
    {
     "name": "stdout",
     "output_type": "stream",
     "text": [
      "Probability of getting a \"D\" :  0.029531204310523224\n"
     ]
    }
   ],
   "source": [
    "n = 50\n",
    "prob = 1/5\n",
    "X = 5\n",
    "# We're going to fine pmf P(X=5)\n",
    "probability_d = scipy.stats.binom.pmf(X, n, prob)\n",
    "print('Probability of getting a \"D\" : ', probability_d)"
   ]
  },
  {
   "cell_type": "markdown",
   "metadata": {},
   "source": [
    "### 3. Two balls are drawn at random in succession without replacement from an urn containing 4 red balls and 6 black balls. Find the probabilities of all the possible outcomes."
   ]
  },
  {
   "cell_type": "raw",
   "metadata": {},
   "source": [
    "# The possibles cases:\n",
    "\n",
    "### With RED\n",
    "# 1e : [R,R] 2 reds\n",
    "# 2e : [R,B] First red, Second black\n",
    "\n",
    "\n",
    "### With BLACK\n",
    "# 3e : [B,B] 2 blacks\n",
    "# 4e : [B,R] First black\n",
    "\n",
    "# Probability of [B,R]\n",
    "P(A) = (6/10) = 0.6\n",
    "    \n",
    "# Probability [R,B] \n",
    "P(B/A) = (5/9) = 0.56\n",
    "    \n",
    "# Probability of getting at least one Red ball\n",
    "1 - P(A) * P(B/A) = 1 - (6/10)*(5/9) = 0.66\n",
    "    \n",
    "# Probability of [B,R]\n",
    "P(B) = (4/10) = 0.40\n",
    "    \n",
    "# Probability of [B,R] [B,B]  \n",
    "P(A/B) = (3/9) = 0.33\n",
    "    \n",
    "# Probability of [R,B] - [B,R]  \n",
    "1 - P(B) * P(A/B) = 1 - (4/10)*(3/9) = 0.8    "
   ]
  },
  {
   "cell_type": "markdown",
   "metadata": {},
   "source": [
    "## 2.3. Problem Statement: STATISTICS 3"
   ]
  },
  {
   "cell_type": "markdown",
   "metadata": {},
   "source": [
    "### 1. Blood glucose levels for obese patients have a mean of 100 with a standard deviation of 15. A researcher thinks that a diet high in raw cornstarch will have a positive effect on blood glucose levels. A sample of 36 patients who have tried the raw cornstarch diet have a mean glucose level of 108. Test the hypothesis that the raw cornstarch had an effect or not."
   ]
  },
  {
   "cell_type": "code",
   "execution_count": 12,
   "metadata": {},
   "outputs": [
    {
     "name": "stdout",
     "output_type": "stream",
     "text": [
      "Z Score : 3.2\n",
      "3.2 > 1.645: The raw cornstarch had an effect\n"
     ]
    }
   ],
   "source": [
    "import math\n",
    "\n",
    "sample_size = 36\n",
    "sample_mean = 108\n",
    "population_mean = 100\n",
    "population_sigma  = 15\n",
    "\n",
    "# 1. First at all, we define the Hypothesis Testing\n",
    "#    The null hypothesis\n",
    "#       H0: μ = 100\n",
    "#    The alternative hypothesis\n",
    "#       H1: μ > 100\n",
    "    \n",
    "# 2. After, we state our significance level to 5% = 0.05. \n",
    "#    Since we have a one-tailed test \"A researcher thinks that a diet high in raw cornstarch will have a positive effect on blood glucose levels\" -> H1: μ > 100\n",
    "#    alpha = 5% = 1.645 (according to Z table)\n",
    "\n",
    "# 3. Calculate Z Score\n",
    "Zscore = (sample_mean - population_mean) / (population_sigma / math.sqrt(sample_size))\n",
    "print(\"Z Score :\", Zscore)\n",
    "\n",
    "# We got Z Score : 3.2\n",
    "# If we compare this 3.2 to 1.645, we see that\n",
    "#     3.2 > 1.645 --> Conclusion we reject H0 et we accept H1\n",
    "\n",
    "print(\"3.2 > 1.645: The raw cornstarch had an effect\")"
   ]
  },
  {
   "cell_type": "markdown",
   "metadata": {},
   "source": [
    "### 2. In one state, 52% of the voters are Republicans, and 48% are Democrats. In a second state, 47% of the voters are Republicans, and 53% are Democrats. Suppose a simple random sample of 100 voters are surveyed from each state.\n",
    "### What is the probability that the survey will show a greater percentage of Republican voters in the second state than in the first state?"
   ]
  },
  {
   "cell_type": "code",
   "execution_count": 36,
   "metadata": {},
   "outputs": [],
   "source": [
    "# Very difficult"
   ]
  },
  {
   "cell_type": "markdown",
   "metadata": {},
   "source": [
    "### 3. You take the SAT and score 1100. The mean score for the SAT is 1026 and the standard deviation is 209. How well did you score on the test compared to the average test taker?"
   ]
  },
  {
   "cell_type": "code",
   "execution_count": 30,
   "metadata": {},
   "outputs": [
    {
     "name": "stdout",
     "output_type": "stream",
     "text": [
      "Z Score: 0.35406698564593303\n",
      "The Score is in the range 817 - 1235 with a zscore equal to 3.20 \n"
     ]
    }
   ],
   "source": [
    "# The z score tells you how many standard deviations from the mean your score is\n",
    "score = 1100\n",
    "population_mean = 1026\n",
    "sd = 209\n",
    "\n",
    "Zscore = (score - population_mean)/sd\n",
    "print(\"Z Score:\", Zscore)\n",
    "\n",
    "# My score is 0.35 standard deviations above the mean\n",
    "print(\"The Score is in the range {} - {} with a zscore equal to {:.2f} \".format(population_mean - sd, population_mean + sd, z))"
   ]
  },
  {
   "cell_type": "markdown",
   "metadata": {},
   "source": [
    "## 2.4. Problem Statement: STATISTICS 4"
   ]
  },
  {
   "cell_type": "markdown",
   "metadata": {},
   "source": [
    "### 1. Is gender independent of education level? A random sample of 395 people were surveyed and each person was asked to report the highest education level they obtained. The data that resulted from the survey is summarized in the following table:"
   ]
  },
  {
   "cell_type": "code",
   "execution_count": null,
   "metadata": {},
   "outputs": [],
   "source": [
    "#          High School Bachelors Masters Ph.d.     Total\n",
    "# Female      60         54       46      41        201\n",
    "# Male        40         44       53      57        194\n",
    "# Total      100         98       99      98        395"
   ]
  },
  {
   "cell_type": "markdown",
   "metadata": {},
   "source": [
    "### Question: Are gender and education level dependent at 5% level of significance? In other words, given the data collected above, is there a relationship between the gender of an individual and the level of education that they have obtained?"
   ]
  },
  {
   "cell_type": "code",
   "execution_count": 34,
   "metadata": {},
   "outputs": [],
   "source": [
    "# 1. First at all, we define the Hypothesis Testing\n",
    "#    The null hypothesis\n",
    "#       H0: gender and education level variables are independent\n",
    "#    The alternative hypothesis\n",
    "#       H1: gender and education level variables are dependent\n",
    "\n",
    "# The chi-square test statistic is calculated by using the formula:\n",
    "#            χ2 = ∑(O−E)^2/E\n",
    "\n",
    "#    O = The observed frequency\n",
    "#    E = the expected frequency if NO relationship existed between the variables(H0)\n",
    "\n",
    "#    E = (row total × column total) / sample size\n",
    "\n",
    "# We will compare the value of the test statistic to the critical value (χ2α) with degree of freedom = (r - 1) (c - 1), \n",
    "# if χ2 > χ2α -> reject the null hypothesis.\n",
    "\n",
    "# 2. Second, we calculate the value of the table\n",
    "# The formula used for example for First column and the first row is --> High School Female = (201*100)/395 = 50.886\n",
    "\n",
    "#          High School  Bachelors  Masters   Ph.d.   Total\n",
    "# Female       50.886     49.868    50.377   49.868    201\n",
    "# Male         49.114     48.132    48.623   48.132    194\n",
    "# Total          100        98        99       98      395\n",
    "\n",
    "# Third, we calculate the Chi-Square value:\n",
    "\n",
    "# χ2= (60−50.886)^2/50.886 + (54−49.868)^2/49.868 + (46−50.377)^2/50.377 + (41-49.868)^2/49.868 + (54−49.868)^2/49.868 + (40-49.114)^2/49.114 + (44-48.132)^2/48.132 + (53-48.623)^2/48.623 + (57−48.132)^2/48.132 = 8.006\n",
    "#        χ2= 8.006\n",
    "\n",
    "# At the end\n",
    "#   The critical value of χ2 with 3 degree of freedom is 7.815\n",
    "#   8.006 > 7.815, we reject H0\n",
    "#   The education level depends on gender at a 5% level of significance.\n"
   ]
  },
  {
   "cell_type": "markdown",
   "metadata": {},
   "source": [
    "### 2. Using the following data, perform a one-way analysis of variance using α=.05. \n",
    "### Write up the results in APA format.\n",
    "#### [Group1: 51, 45, 33, 45, 67] \n",
    "#### [Group2: 23, 43, 23, 43, 45] \n",
    "#### [Group3: 56, 76, 74, 87, 56]"
   ]
  },
  {
   "cell_type": "raw",
   "metadata": {},
   "source": [
    "Calculate the sample means:\n",
    "    Calculate sample means for Group 1 = (51 + 45 + 33 + 45 + 67)/5= 48.2\n",
    "    Calculate sample means for Group 2 = (23 + 43 + 23 + 43 + 45)/5= 35.4\n",
    "    Calculate sample means for Group 3 = (56 + 76 + 74 + 87 + 56)/5= 69.8\n",
    "    Therefore, the sample means (¯X¯) for the groups 1, 2 & 3 are:  48.2, 35.4, 69.8\n",
    " \n",
    "Calculate squared deviations:\n",
    "\n",
    "For Group 1:\n",
    "  value mean deviations sq deviations\n",
    "1    51 48.2        2.8          7.84\n",
    "2    45 48.2       -3.2         10.24\n",
    "3    33 48.2      -15.2        231.04\n",
    "4    45 48.2       -3.2         10.24\n",
    "5    67 48.2       18.8        353.44\n",
    "Total                          612.80\n",
    "\n",
    "For Group 2:\n",
    "  value mean deviations sq deviations\n",
    "1    23 35.4      -12.4        153.76\n",
    "2    43 35.4        7.6         57.76\n",
    "3    23 35.4      -12.4        153.76\n",
    "4    43 35.4        7.6         57.76\n",
    "5    45 35.4        9.6         92.16\n",
    "Total                          515.20\n",
    "\n",
    "For Group 3:\n",
    "  value mean deviations sq deviations\n",
    "1    56 69.8      -13.8        190.44\n",
    "2    76 69.8        6.2         38.44\n",
    "3    74 69.8        4.2         17.64\n",
    "4    87 69.8       17.2        295.84\n",
    "5    56 69.8      -13.8        190.44\n",
    "Total                          732.80\n",
    "\n",
    "Therefore, the Sum of squared deviations from the mean (SS) for the groups are \n",
    "Sum of squared deviations for Group 1 is 612.8\n",
    "Sum of squared deviations for Group 2 is 515.2 \n",
    "Sum of squared deviations for Group 3 is 732.8\n",
    "\n",
    "\n",
    "Calculate the group variances for SS error:\n",
    "\n",
    "        Var1= 612.8 / (5−1)   = 153.2 \n",
    "        Var2= 515.2 / (5−1)   = 128.8\n",
    "        Var3= 732.8 / (5−1)   = 183.2\n",
    "        \n",
    "MS error = (153.2+128.8+183.2) / 3 = 155.07 \n",
    "df error = 15−3 = 12\n",
    "SS error = MS error X df error = (155.07) x (15−3) = 1860.8\n",
    "\n",
    "Step 4: Calculating the variance of the sample means:\n",
    "        \n",
    "        Grand mean (X¯grand) = 48.2 + 35.4 + 69.83 = 51.13\n",
    "        \n",
    "        Group mean    Grand mean    Deviations     Sq deviations\n",
    "           48.2         51.13         -2.93            8.58\n",
    "           35.4         51.13         -15.73         247.43\n",
    "           69.8         51.13          18.67         348.57\n",
    "        \n",
    "Sum of squares (SS means) = ( 8.58 + 247.43 + 348.57)  =  604.58\n",
    "Var means = 604.58 / (3−1) = 302.29\n",
    "MS between=(302.29)X(5) = 1511.45\n",
    "\n",
    "Calculating the remaining between (or group) terms of the ANOVA table:\n",
    "\n",
    "dfgroups = 3−1 = 2\n",
    "SSgroup  = (1511.45) (3−1) = 3022.9\n",
    "\n",
    "Test statistic and critical value\n",
    "F = 1511.45 / 155.07 = 9.75\n",
    "Fcritical(2,12) = 3.89\n",
    "\n",
    "Decision: Reject Null Hyothesis\n",
    "\n",
    "Therfore, the ANOVA table\n",
    "Source         SS     df     MS        F\n",
    "Group        3022.9    2    1511.45   9.75\n",
    "Error        1860.8    12   155.07\n",
    "Total        4883.7\n",
    "\n",
    "Effect size\n",
    "η2=3022.9 / 4883.7 = 0.62\n",
    "\n",
    "Results in APA writeup\n",
    "\n",
    "F(2, 12)=9.75, p <0.05, η2=0.62.        "
   ]
  },
  {
   "cell_type": "markdown",
   "metadata": {},
   "source": [
    "### 3. Calculate F Test for given 10, 20, 30, 40, 50 and 5, 10, 15, 20, 25"
   ]
  },
  {
   "cell_type": "code",
   "execution_count": 35,
   "metadata": {},
   "outputs": [],
   "source": [
    "# First I calculate Variance of 10, 20, 30, 40, 50\n",
    "#     Total Inputs (N) = (10,20,30,40,50) \n",
    "#     Total Inputs (N) = 5 \n",
    "#     Mean (xm) = (x1+x1+x2...xn)/N \n",
    "#     Mean (xm) = 150/5 = 30\n",
    "#     std = sqrt(1/(N-1)*((x1-xm)^2+(x2-xm)^2+..+(xn-xm)^2)) \n",
    "#         = sqrt(1/(5-1)((10-30)^2+(20-30)^2+(30-30)^2+(40-30)^2+(50-30)^2)) \n",
    "#         = sqrt(1/4((-20)^2+(-10)^2+(0)^2+(10)^2+(20)^2)) \n",
    "#         = sqrt(1/4((400)+(100)+(0)+(100)+(400))) \n",
    "#         = sqrt(250) = 5.8114 \n",
    "#      Variance = std^2 \n",
    "#      Variance = 15.8114^2 = 250 \n",
    "\n",
    "# Second I calculate Variance of 5, 10, 15, 20, 25 \n",
    "#     Total Inputs(N) = (5,10,15,20,25) \n",
    "#     Total Inputs(N) = 5 \n",
    "#     Mean (xm) = (x1+x2+x3...xN) / N \n",
    "#     Mean (xm) = 75/5 = 15\n",
    "#     std = sqrt(1/(N-1)*((x1-xm)^2+(x2-xm)^2+..+(xn-xm)^2)) \n",
    "#         = sqrt(1/(5-1)((5-15)^2+(10-15)^2+(15-15)^2+(20-15)^2+(25-15)^2)) \n",
    "#         = sqrt(1/4((-10)^2+(-5)^2+(0)^2+(5)^2+(10)^2)) \n",
    "#         = sqrt(1/4((100)+(25)+(0)+(25)+(100))) \n",
    "#         = sqrt(62.5) = 7.9057 \n",
    "#      Variance = std^2 \n",
    "#      Variance = 7.90572 = 62.5 \n",
    "\n",
    "# At the end, I calculate F Test value\n",
    "# F Test = (variance of 10, 20,30,40,50) / (variance of 5, 10, 15, 20, 25) \n",
    "# F Test = 250/62.5 = 4\n",
    "\n",
    "#                                     Therefore the F Test value is 4"
   ]
  }
 ],
 "metadata": {
  "kernelspec": {
   "display_name": "Python 3",
   "language": "python",
   "name": "python3"
  },
  "language_info": {
   "codemirror_mode": {
    "name": "ipython",
    "version": 3
   },
   "file_extension": ".py",
   "mimetype": "text/x-python",
   "name": "python",
   "nbconvert_exporter": "python",
   "pygments_lexer": "ipython3",
   "version": "3.6.8"
  }
 },
 "nbformat": 4,
 "nbformat_minor": 2
}
